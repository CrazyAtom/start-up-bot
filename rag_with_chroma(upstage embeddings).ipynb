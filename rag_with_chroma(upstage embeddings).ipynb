{
 "cells": [
  {
   "cell_type": "markdown",
   "metadata": {},
   "source": [
    "1. 문서의 내용을 읽는다\n",
    "2. 문서를 쪼갠다\n",
    "    - 토큰수 초과로 답변을 생성하지 못할 수 있고\n",
    "    - 문서가 길면 (인풋이 길면) 답변 생성이 오래 걸림\n",
    "3. 임베딩 -> 벡터 데이터베이스에 저장\n",
    "4. 질문이 있을 때, 벡터 데이터베이스에 유사도 검색\n",
    "5. 유사도 검색으로 가져온 문서를 LLM 질문과 같이 전달"
   ]
  },
  {
   "cell_type": "markdown",
   "metadata": {},
   "source": [
    "1. 패키지 설치"
   ]
  },
  {
   "cell_type": "code",
   "execution_count": null,
   "metadata": {},
   "outputs": [],
   "source": [
    "%pip install python-dotenv langchain langchain-upstage langchain-community langchain-text-splitters langchain-chroma pypdf"
   ]
  },
  {
   "cell_type": "markdown",
   "metadata": {},
   "source": [
    "2. Knowledge Base 구성을 위한 데이터 생성\n",
    "\n",
    "- RecursiveCharacterTextSplitter를 활용한 데이터 chunking\n",
    "  - split 된 데이터 chunk를 Large Language Model(LLM)에게 전달하면 토큰 절약 가능\n",
    "  - 비용 감소와 답변 생성시간 감소의 효과\n",
    "  - LangChain에서 다양한 TextSplitter들을 제공\n",
    "- chunk_size 는 split 된 chunk의 최대 크기\n",
    "- chunk_overlap은 앞 뒤로 나뉘어진 chunk들이 얼마나 겹쳐도 되는지 지정"
   ]
  },
  {
   "cell_type": "code",
   "execution_count": 1,
   "metadata": {},
   "outputs": [],
   "source": [
    "from langchain_community.document_loaders import PyPDFLoader\n",
    "from langchain_text_splitters import RecursiveCharacterTextSplitter\n",
    "\n",
    "text_splitter = RecursiveCharacterTextSplitter(\n",
    "    chunk_size=1500,\n",
    "    chunk_overlap=200,\n",
    ")\n",
    "\n",
    "loader = PyPDFLoader('./start-up_investor_relations.pdf')  # PDF 파일 경로를 지정\n",
    "document_list = loader.load_and_split(text_splitter=text_splitter)"
   ]
  },
  {
   "cell_type": "code",
   "execution_count": 2,
   "metadata": {},
   "outputs": [
    {
     "data": {
      "text/plain": [
       "\"4 5추천의 글\\n추천의 글 | 카카오벤처스 정신아 대표\\n이 책은 선배 창업가인 저자의 오랜 경험과 투자자와 스타트업의 \\n인터뷰 등 현장의 목소리를 담은 책으로 그 어떤 이론보다 의미 있다\\n고 본다. 또, 실제로 스타트업이 궁금한 부분을 물어가며 백서화시킨, \\n스타트업에 대한 애정이 돋보이는 책이다. 스타트업이 투자자가 좋아\\n할 모습을 추측하며 맞춰갈 때 안타까울 때가 많은데, 이 책을 통해 \\n투자자를 잘 이해하게 되고, 스타트업의 실력이 투자자 앞에서 소통\\n되어 투자자에게도 훌륭한 팀을 찾는 데 더 도움이 될 것이다. 스타트\\n업을 위해 쓰인 이 책이 더 나아가 투자자와 스타트업의 연결고리가 \\n될 것이라 믿으며, 본인의 지식, 경험과 정성을 담아 이 책을 쓰신 저\\n자에게 감사드린다.추천의 글 | 스마트스터디 이승규 CFO\\n투자 유치에 매진하던 2015년에 이 책을 읽었더라면, 나는 과거와 \\n다른 선택을 적어도 세 가지는 했을 것 같다. 왜 투자가 필요한지, 지\\n금 시점이 맞는지, 투자자는 어떤 생각을 하는지, 그리고 실제 투자 \\n유치 과정이 어떻게 흘러가는지에 관해 '슬램 덩크'의 안경 선배처럼 \\n옆에서 조곤조곤 설명해주는 멘토가 있으면 최상이겠지만, 없더라도 \\n안도하고 바로 열어볼 수 있는 책이 드디어 나왔다.\\n추천의 글 | 소프트뱅크벤처스아시아 이준표 대표\\n투자 유치를 준비하는 창업가들이 반드시 읽어야 하는 필독서!\\n누구나 처음으로 창업한 회사에 투자를 유치하는 과정은 막막하고 \\n큰 두려움으로 다가온다. 이 책을 읽어보면 투자 유치를 위해서 꼭 알\\n아야 하는 것들과 어디서 시작하면 좋을지, 또 그 과정을 어떻게 준비\\n하면 좋을지를 자세히 알 수 있다. 이 책은 창업을 했거나 준비하는 \\n창업자들에게 큰 도움이 될 길잡이가 될 것이다.\""
      ]
     },
     "execution_count": 2,
     "metadata": {},
     "output_type": "execute_result"
    }
   ],
   "source": [
    "len(document_list)\n",
    "document_list[1].page_content[:1000]"
   ]
  },
  {
   "cell_type": "code",
   "execution_count": 3,
   "metadata": {},
   "outputs": [],
   "source": [
    "from dotenv import load_dotenv\n",
    "from langchain_upstage import UpstageEmbeddings\n",
    "\n",
    "# 환경변수를 불러옴\n",
    "load_dotenv()\n",
    "\n",
    "# OpenAI에서 제공하는 Embedding Model을 활용해서 `chunk`를 vector화\n",
    "embedding = UpstageEmbeddings(\n",
    "    model=\"embedding-query\"\n",
    ")"
   ]
  },
  {
   "cell_type": "code",
   "execution_count": 4,
   "metadata": {},
   "outputs": [],
   "source": [
    "from langchain_chroma import Chroma\n",
    "\n",
    "# 데이터를 처음 저장할 때\n",
    "# database = Chroma.from_documents(documents=document_list, embedding=embedding, collection_name='chroma', persist_directory=\"./chroma\")\n",
    "\n",
    "# 이미 저장된 데이터를 사용할 때\n",
    "database = Chroma(collection_name='chroma', persist_directory=\"./chroma\", embedding_function=embedding)"
   ]
  },
  {
   "cell_type": "markdown",
   "metadata": {},
   "source": [
    "3. 답변 생성을 위한 Retrieval\n",
    "\n",
    "Chroma에 저장한 데이터를 유사도 검색(similarity_search())를 활용해서 가져옴"
   ]
  },
  {
   "cell_type": "code",
   "execution_count": 41,
   "metadata": {},
   "outputs": [],
   "source": [
    "query = '스타트업 투자 자문을 위한 IR 자료는 어떤 내용이 포함되어야 하는가?'\n",
    "\n",
    "# `k` 값을 조절해서 얼마나 많은 데이터를 불러올지 결정\n",
    "retrieved_docs = database.similarity_search(query, k=7)"
   ]
  },
  {
   "cell_type": "code",
   "execution_count": 42,
   "metadata": {},
   "outputs": [
    {
     "data": {
      "text/plain": [
       "[Document(id='95b58207-3ceb-4263-b842-07985161a7c5', metadata={'creationdate': '2021-04-16T16:55:02+09:00', 'creator': 'Adobe InDesign 16.1 (Macintosh)', 'moddate': '2023-07-26T06:48:13+09:00', 'page': 91, 'page_label': '92', 'producer': 'Adobe PDF Library 15.0', 'source': './start-up_investor_relations.pdf', 'total_pages': 197, 'trapped': '/False'}, page_content='182 183H 팀 (Team)\\n: 공동창업자들과 핵심 멤버들에 대한 설명  \\n가끔 팀에 대한 정보를 빼고 IR 자료를 보내는 경우가 있는데, 이것\\n은 큰 실수입니다. 그리고 멤버의 이름만 쓰는 것은 의미가 없고, 전\\n공이나 어떤 경력이 있는지를 포함해야 합니다. 개인적으로 자주 하\\n는 질문이 “당장은 아니더라도 미래에 어떤 드림팀이 이 사업을 가장 \\n잘할 수 있을까요?”인데, 주요 멤버들의 이력을 통해 비즈니스 모델\\n에 필요한 핵심 역량을 어느 정도 가졌는지를 잘 어필해야 합니다. 그\\n리고 단순히 이름만 올린 외부 어드바이저 등은 너무 강조하지 않는 \\n것이 좋죠.\\n투자자는 공동창업자들을 비롯한 핵심 멤버들이 각자 어떤 삶을 살\\n아왔고 어떻게 만났는지, 비전은 잘 공유되는지, 각자의 지분은 적절\\n한지,34 그리고 얼마나 서로 끈끈한 관계인지도 궁금해하니 IR 피칭 \\n때 보충 설명을 하면 좋습니다.\\nI 재무 (Financial) \\n: 3년 이내의 매출 계획과 예상되는 비용을 포함\\n초기 스타트업의 경우 아직 가설 검증 단계이기에 미래 예측지표\\n의 오차가 크기 마련입니다. 따라서 5년은 큰 의미가 없고 3년 이내\\n34\\u3000대표나 주요 멤버의 지분이 투자자의 예상보다 아주 낮으면 바람직하지 못함의 매출계획, 필요한 투자금액과 투자금을 예를 들어 인건비/사무실 \\n임대료/마케팅비/원재료비 등 어떻게 활용할지, 그리고 자금 소진 속\\n도(Burn Rate) 정도가 필요합니다. 꽤 성장한 스타트업이라면 추가\\n로 과거/현재의 현금흐름을 포함한 요약 재무제표, 그리고 미래의 추\\n정 재무제표나 손익분기점 도달 시점 등의 자료가 필요할 수도 있습\\n니다. \\n \\nJ 비전 (Vision)\\n: 만약 계획대로 잘된다면 5년 후에 무엇을 성취할 것인가를 제시 \\n창업자의 꿈과 스타트업의 장기적인 비전을 설명하면 됩니다. 궁극\\n적으로 지향하는 회사의 비전은 무엇이며, 공동창업자들은 비전의 어\\n떤 부분에 끌려서 뭉치게 되었는지 등의 스토리텔링이 좋습니다.  \\nIR 자료, 작성 팁 여덟 가지\\n여러 스타트업의 IR 자료를 검토하고 조언한 경험을 기반으로 IR \\n자료를 작성하는데 참고할 수 있는 팁을 정리해 보았습니다.\\nA 투자자가 식상하다고 느낄 부분은 줄이고 궁금해할 부분에 집중하라 \\n예를 들어 국내 e커머스 시장이 나날이 성장하고 있다는 것은 누구\\n나 다 아는 사실인데, 서론에서 이를 장황하게 설명하면 투자자는 지'),\n",
       " Document(id='2c05552a-19f2-49d4-b302-e615f7cb68ad', metadata={'creationdate': '2021-04-16T16:55:02+09:00', 'creator': 'Adobe InDesign 16.1 (Macintosh)', 'moddate': '2023-07-26T06:48:13+09:00', 'page': 93, 'page_label': '94', 'producer': 'Adobe PDF Library 15.0', 'source': './start-up_investor_relations.pdf', 'total_pages': 197, 'trapped': '/False'}, page_content='186 187D 단계적인 로드맵을 보여줘라 \\n로마는 하루아침에 이루어지지 않았듯이, 스타트업은 각 단계를 거\\n쳐 성장하게 됩니다. 미래의 비전을 이야기하되 현재의 단계에서 검\\n증된 가설과 지표는 어떠하며, 다음 단계로 가기 위해 검증해야 할 가\\n설과 지표, 그리고 이를 달성하기 위한 중기적인 전략은 무엇인지가 \\n구체적이어야 하죠. 먼 미래의 추가적인 수익 모델이나 사업 확장은, \\n아직은 요원하기 때문에 투자자에게는 일종의 보너스 정도로만 느껴\\n질 수 있습니다.\\n \\nE 적절한 스토리텔링을 활용하라 \\n창업 동기나 시장의 현황과 배경, 고객 문제 등에 대해 적절한 스토\\n리텔링이 있으면 좋습니다. 사람은 감성적인 동물이기도 하기에 논리\\n적인 개연성 외에 감동도 있으면 설득과 공감에 유리합니다.\\n그리고 예를 들어 단순히 우리의 제품/서비스가 좋다고 주장하기보\\n다는 구체적인 사례와 함께 고객의 평점이나 반응/리뷰 등을 서술해 \\n주는 것이 더 현실적으로 느껴져서 효과적입니다.\\nF 텍스트와 시각 자료를 조화롭게 사용하라 \\n너무 텍스트 위주이거나 반대로 너무 많은 도식과 표를 동원하면 \\n투자자 입장에서 이해하기 힘들 수 있습니다. 따라서 적절한 레이아웃을 취해야 하며, 폰트 종류나 크기도 적절한 것을 활용하는 게 가독\\n성에 좋죠. 예쁘게 만들기 이전에 먼저 명확하게 만들어야 합니다. 그\\n리고 필요시 이미지도 적절하게 이용하면 좋고, 특히 기술적으로 이\\n해가 어려운 부분은 데모 동영상36이나 스크린샷 등을 활용하면 상대\\n적으로 쉽게 투자자를 이해시킬 수도 있습니다. \\ncase\\n한 테크 스타트업의 경우 기술적인 부분이 어려워 설명하기가 쉽지 않았습니다. 그래서 3D \\n동영상이 아니더라도 간단한 2D 동영상으로 구현해 보면 어떻겠냐고 자문하였는데, 실제로 \\n투자자가 쉽게 이해가 가능해진 적도 있죠.\\nG 어깨에 힘을 빼고 본인 스타일대로 자료를 만들어라 \\n자료를 포장하는 것에만 너무 신경 쓰지 말고, 어깨에 힘을 빼고 스\\n스로 솔직하게 장점이 무엇인지를 몇 가지의 키워드로 먼저 정리해 \\n볼 필요가 있습니다. 그리고 그것을 문장으로 정리해보고 다시 약간\\n의 포장과 함께 자료로 정리하면 됩니다. \\n간혹 자료를 너무 잘 만들려다 보면 자신의 스타일과 다르게 무리\\n하는 스타트업도 있습니다. 나에게 맞지 않는 명품보다는 나에게 맞\\n는 길거리 패션이 낫죠. 너무 잘 보이려는 것에 치중하다 보면 오히려 \\n신뢰를 떨어뜨릴 수도 있는데, 실제로 잘하는 것을 투자자에게 담백\\n36\\u3000신기하게도 평소에 잘 시연되던 것이 꼭 IR 피칭 시에는 제대로 작동하지 않는 경우가 많으니, 가\\n급적 직접 시연보다는 데모 동영상 파일을 제작하여 현장에서 재생하는 것을 권장함'),\n",
       " Document(id='44a86395-c6f9-420d-ab0e-8001610eb6f9', metadata={'creationdate': '2021-04-16T16:55:02+09:00', 'creator': 'Adobe InDesign 16.1 (Macintosh)', 'moddate': '2023-07-26T06:48:13+09:00', 'page': 85, 'page_label': '86', 'producer': 'Adobe PDF Library 15.0', 'source': './start-up_investor_relations.pdf', 'total_pages': 197, 'trapped': '/False'}, page_content=\"170 171III 투자유치, 실제로는 이렇게 진행돼요\\n4.  \\n멋지기보다는  \\n‘핵심을 찌르는 IR 피칭’\\nIR 피칭은 스타트업이 투자사의 파트너/심사역/기타 관계자들을 한자리\\n에서 모두 만날 수 있는 처음이자 마지막 기회입니다. 그리고 투자사 입\\n장에서 IR 피칭은 본격적인 투자 검토의 시작 시점이기도 합니다. 따라서 \\nIR 자료를 잘 작성하고 제대로 발표 준비를 하는 것이 무척 중요합니다.  IR 자료의 의미\\nIR(Investor Relations)은 말 그대로 투자자와 관계를 맺는 행위\\n로 투자자를 대상으로 기업의 각종 정보를 제공하는 활동입니다. 스\\n타트업이 외부 투자 유치용이 아닌 내부적으로 실제 사업을 진행하기 \\n위해 비즈니스 모델을 구체화한 사업 계획서를 이미 작성하였을 수도 \\n있습니다. 하지만 이것을 그대로 투자자에게 보여주는 것은 적절치 \\n않습니다. 투자자를 위한 IR 자료는 일반 고객 대상의  회사소개서나 \\n제품소개서, 구인용 HR(Human Resources) 성격의 회사소개서, 협\\n력사를 위한 제안서, 정부 지원사업을 위해 해당 양식으로 작성된 지\\n원서 등과도 차이가 있으며, 모두 각각 용도에 맞게 작성하여 이용해\\n야 합니다. 투자자와 1:1로 IR을 진행하는 자료는 대중을 주 대상으\\n로 하는 공개 데모데이나 짧은 시간 안에 심사위원의 평가를 받아야 \\n하는 경진대회용 자료와도 차이가 있습니다. 실제로 투자자의 이야기\\n를 들어보면 대중을 대상으로 한 멋진 발표자료도 의미가 있지만, 좀 \\n더 담백하면서도 개성이 있고 구체적이길 기대하는 편입니다. \\n따라서 IR 자료는 무엇보다 투자자를 주 대상으로 하여 투자자의 입장\\n을 고려하여 작성해야 합니다.  투자자가 관심을 가지거나 궁금해하는 점\\n들과 II장 100 페이지의 '4. Pick me up! 투자자는 이런 스타트업에 투\\n자한다! ' 에서도 언급한 투자 검토 시 고려하는 내용을 제대로 준비하여 \\n투자자를 설득하고 공감을 끌어낼 수 있어야 합니다. IR 피칭 자료뿐만 \\n아니라 콜드 메일로 보내는 투자 제안서나 첫 미팅 때 발표 자료 등도 분\"),\n",
       " Document(id='1bd92a75-c0d6-49f8-8651-3bd86c82be04', metadata={'creationdate': '2021-04-16T16:55:02+09:00', 'creator': 'Adobe InDesign 16.1 (Macintosh)', 'moddate': '2023-07-26T06:48:13+09:00', 'page': 10, 'page_label': '11', 'producer': 'Adobe PDF Library 15.0', 'source': './start-up_investor_relations.pdf', 'total_pages': 197, 'trapped': '/False'}, page_content='20 21목차\\n추천의 글 4\\n프롤로그 9\\n이 책을 읽는 방법 17\\n인터뷰 | 국내 창업자 10명에게 물어보았다! \\u200224\\nI 저는 투자 유치가 처음인데요!\\n1. 왜 투자를 받아야 할까요? 34\\n생존을\\u2002넘어\\u2002성장동력을\\u2002 갖추어야\\u2002 한다\\u200235\\u2002|\\u2002\\u2002해당\\u2002영역\\u2002선점을\\u2002위한\\u2002리소스가\\u2002 필요하\\n다\\u200236\\u2002|\\u2002\\u2002투자자를\\u2002‘우군’으로\\u2002확보할\\u2002수\\u2002있다\\u2002 38\\n2. 투자 유치, 필수인가? 39\\n자영업처럼\\u2002천천히\\u2002성장해도\\u2002괜찮다면\\u2002 40\\u2002|\\u2002\\u2002투자\\u2002유치\\u2002없이도\\u2002급성장이\\u2002가능하다면\\u2002 40\\n3. 투자 유치 전, 반드시 확인해야 할 것들 41\\n스타트업이라면,\\u2002 J커브형\\u2002성장이\\u2002필요!\\u200242\\u2002|\\u2002\\u2002대출이냐?\\u2002 투자\\u2002유치냐?\\u2002그것이\\u2002문제로\\n다\\u200243\\u2002|\\u2002\\u2002투자\\u2002유치에\\u2002필요한\\u2002마음가짐\\u2002 44\\n★ 스타트업 인터뷰 |\\u2002머스트잇\\u2002조용민\\u2002대표\\u2002 46\\nII 투자자는 투자할 때 어떤 생각을 할까?\\n1. 투자자, 이렇게 나뉜다 54\\n투자자의\\u2002유형\\u2002 55\\u2002|\\u2002\\u2002투자\\u2002계약\\u2002주체의\\u2002유형\\u2002\\u2002\\u2002 62\\u2002|\\u2002\\u2002단계별\\u2002투자자\\u2002분류\\u2002 64\\n2. 투자자, 이런 역할을 해요 73\\n투자자는\\u2002‘투자’만\\u2002할까?\\u2002 74\\u2002|\\u2002\\u2002투자자의\\u2002운용\\u2002구조는\\u2002이렇다!\\u2002 79\\n3. 투자자는 쪽박? 대박? 85\\n투자\\u2002성공,\\u2002그\\u2002다음에는?\\u200286\\u2002|\\u2002\\u2002포트폴리오\\u2002 구성과\\u2002희망\\u2002수익\\u2002배수\\u200291\\u2002|\\u2002\\u2002하이리스크\\u2002\\n하이리턴(High\\u2002Risk\\u2002High\\u2002Return)\\u2002vs\\u2002로우리스크\\u2002로우리턴(Low\\u2002Risk\\u2002Low\\u2002Return)\\u2002 964. Pick me up! 투자자는 이런 스타트업에 투자한다! 100\\n투자자가\\u2002 고려하는\\u2002 것\\u2002101\\u2002|\\u2002\\u2002투자자는\\u2002 이런\\u2002팀을\\u2002좋아한다!\\u2002 102\\u2002|\\u2002\\u2002투자자는\\u2002 시장과\\u2002관\\n련해\\u2002이런\\u2002점들을\\u2002고려한다!\\u2002 107\\n★ 스타트업 인터뷰 |\\u2002마켓컬리\\u2002김슬아\\u2002대표\\u2002 116\\n★ 투자자 인터뷰 |\\u2002\\u2002세마트랜스링크인베스트먼트\\u2002박희덕\\u2002대표\\u2002 122\\nIII 투자 유치, 실제로는 이렇게 진행돼요\\n1. 투자 유치 준비물, 무엇이 있을까? 128\\n투자\\u2002유치\\u2002준비물\\u2002목록\\u2002129\\u2002|\\u2002\\u2002현\\u2002단계의\\u2002투자\\u2002유치\\u2002요건을\\u2002충족시키는지\\u2002 점검해보\\n기\\u2002130\\u2002|\\u2002\\u2002회계/세무/법무적으로\\u2002 정비하기\\u2002131\\u2002|\\u2002\\u2002투자\\u2002유치를\\u2002시작할\\u2002시점을\\u2002계산해\\u2002보\\n기\\u2002132\\u2002|\\u2002\\u2002투자\\u2002유치\\u2002계획\\u2002수립하기\\u2002 132\\n2. 투자자의 투자 절차, 큰 그림으로 이해하기 133\\n투자자의\\u2002투자\\u2002절차\\u2002 134\\u2002|\\u2002\\u2002투자\\u2002절차\\u2002일정\\u2002 137\\n3. 두근두근, 마침내 투자자와 첫 미팅 140\\n어떤\\u2002투자자에게\\u2002 투자를\\u2002받아야\\u2002할까?\\u2002141\\u2002|\\u2002\\u2002투자자,\\u2002어떻게\\u2002찾고\\u2002어떻게\\u2002연락할\\n까?\\u2002148\\u2002|\\u2002\\u2002투자자와의\\u2002첫\\u2002미팅\\u2002 165\\n4. 멋지기보다는 ‘핵심을 찌르는 IR 피칭’ 170\\nIR\\u2002자료의\\u2002의미\\u2002171\\u2002|\\u2002\\u2002IR\\u2002자료를\\u2002만드는\\u2002‘십계명’\\u2002172\\u2002|\\u2002\\u2002IR\\u2002자료,\\u2002작성\\u2002팁\\u2002여덟\\u2002가\\n지\\u2002183\\u2002|\\u2002\\u2002IR\\u2002피칭,\\u2002이렇게\\u2002준비해보자\\u2002 189\\n \\n5. 우리 회사의 적정 기업가치는 얼마일까? 192\\n일반적인\\u2002 기업가치\\u2002 평가\\u2002방법\\u2002193\\u2002|\\u2002\\u2002투자자의\\u2002 스타트업\\u2002 기업가치\\u2002 고려\\u2002요소\\u2002195\\u2002|\\u2002\\u2002적\\n정\\u2002투자\\u2002금액과\\u2002지분\\u2002희석\\u2002 198\\u2002|\\u2002\\u2002기업가치\\u2002협상하기\\u2002 201'),\n",
       " Document(id='68c7cd56-a5e3-4d36-8b49-2753236d253c', metadata={'creationdate': '2021-04-16T16:55:02+09:00', 'creator': 'Adobe InDesign 16.1 (Macintosh)', 'moddate': '2023-07-26T06:48:13+09:00', 'page': 94, 'page_label': '95', 'producer': 'Adobe PDF Library 15.0', 'source': './start-up_investor_relations.pdf', 'total_pages': 197, 'trapped': '/False'}, page_content='188 189하게 제대로 알리는 것이 때론 효과적일 수도 있습니다. \\n \\nH 예상 Q&A 자료를 미리 부록에 넣어두면 좋다 \\n예상 질문에 대비하여 준비한 Q&A 자료를 미리 IR 자료 부록에 넣\\n어두면, 투자자 입장에서는 스타트업이 이미 관련된 이슈를 고민한 \\n흔적이 보여 좋습니다. 그리고 투자자들로부터 반복해서 나오는 질문\\n은 부록이 아닌 본문에 어느 정도 반영하여 보완하는 것도 방법입니\\n다. 투자자의 피드백에 맞추어 IR 자료의 본문과 부록을 지속해서 업\\n데이트할 필요도 있습니다. 국내외 스타트업의 공개된 IR 자료 샘플\\n은 아래 링크에서 확인하실 수 있습니다. \\n※ 참고 – 국내외 스타트업 IR 자료 샘플IR 피칭, 이렇게 준비해보자\\nIR 피칭에는 기본적으로 투자사의 파트너/심사역이 모두 참석하며 \\n경우에 따라 기타 관계자가 함께 참석하기도 합니다. 그리고 간소한 \\n절차를 가진 투자사의 경우 파트너/심사역이 대부분 참석하는 스타\\n트업과의 미팅이 IR 피칭을 대신하기도 합니다. \\nIR 피칭은 일반적으로 1시간 30분 전후로 진행되며, 그중 절반 정\\n도가 발표 시간이고 나머지 절반 정도가 질의/응답 시간이라고 보면 \\n됩니다. 기본 발표만 30분 이상이 소요되고 상당한 양의 질의/응답도 \\n있기에, 질의/응답 없이 5분 전후로 짧게 진행되는 일반 데모데이 피\\n칭과는 디테일에서 차이점이 크다는 점을 염두에 두고 준비해야 합니\\n다. \\n발표는 기본적으로 스타트업 대표가 해야 하며,37 발표와 예상 질\\n의/응답에 대한 리허설을 익숙해질 때까지 여러 번 해 볼 필요가 있\\n습니다. 담당 투자자는 그간의 미팅을 통해 이미 많은 내용을 알고 있\\n지만, 다른 파트너/심사역은 처음 듣는 내용도 많을 겁니다. 따라서 \\nIR 피칭은 담당자 이외에 다른 파트너/심사역도 설득하는 것이 중요\\n하며 이를 위해 이해하기 쉽고 명료하게 표현할 수 있도록 준비해야 \\n합니다.  IR 피칭 때 주의할 점들을 몇 가지 정리해 보면 다음과 같습\\n니다.\\n37\\u3000투자사의 파트너/심사역이 대표를 직접 만날 수 있는 자리이기에, 발표 내용 이외에 대표에 대해\\n서도 많이 알고자 함'),\n",
       " Document(id='8eb11d6b-9750-498d-a232-2d74799a1ac2', metadata={'creationdate': '2021-04-16T16:55:02+09:00', 'creator': 'Adobe InDesign 16.1 (Macintosh)', 'moddate': '2023-07-26T06:48:13+09:00', 'page': 103, 'page_label': '104', 'producer': 'Adobe PDF Library 15.0', 'source': './start-up_investor_relations.pdf', 'total_pages': 197, 'trapped': '/False'}, page_content='206 207III 투자유치, 실제로는 이렇게 진행돼요\\n6.  \\n마침내 우리 회사가  \\n평가를 받는 순간,  \\n투자심의위원회\\n스타트업이 투자사의 파트너/심사역을 모두 만나는 것은 IR 피칭이 마지\\n막입니다. 이후엔 담당 투자자가 투자심의위원회(이하 투심위)를 준비하\\n기 위해 투자심사보고서를 작성하고, 투심위와 실사를 진행하게 됩니다.투심위, 이렇게 준비해요\\n투심위를 위한 투자심사보고서를 준비하는 과정에서 담당 투자자\\n가 직접 스타트업을 찾아가 추가적인 조사나 인터뷰를 진행하기도 하\\n고, 때론 스타트업 대표와 함께 어떻게 자료를 잘 준비할지 회의를 하\\n기도 합니다. 이는 모두 투자사 내부의 다른 파트너/심사역을 설득하\\n기 위한 자료를 만들기 위한 것이니, 스타트업은 적극적으로 협력할 \\n필요가 있습니다. \\n그리고 담당 투자자는 스타트업에 IR 피칭 자료 외에도 공동창업\\n자를 비롯한 핵심 멤버들에 대한 자세한 이력, 추가적인 시장분석 자\\n료, 매출이나 서비스 관련된 세부적인 핵심 지표들, 세부적인 기술 내\\n용과 관련 자료, 기존 투자계약서 등을 요청하기도 합니다.49 이 과\\n정에서 스타트업 내부의 상세한 세부자료를 전달해야 할 수도 있는\\n데, 만약 우려가 크다면 간혹 투자자로부터 NDA(Non-Disclosure \\nAgreement : 기밀유지 협약서)50 를 받아 두기도 합니다. 대체로 후\\n기 투자 유치 시 내부의 상세한 정보 유출에 대한 우려가 있거나, 투\\n자자가 직접 경쟁 제품/서비스를 출시할 가능성이 있는 전략적 투자\\n자(SI)일 때, NDA를 고려할 수 있습니다.\\n그리고 대략적인 기업가치와 투자 금액에 대해서  미리 논의하지만, \\n49\\u3000IR 피칭 자료에 투자심사보고서에 필요한 내용들이 많다면, 담당 투자자가 투자심사보고서를 작\\n성하기가 쉬움\\n50\\u3000사업 기밀이나 주요 정보를 공유할 때 일반적인 사용을 제한하는 계약'),\n",
       " Document(id='4e3cf4d5-47f6-44a3-b5e6-e117be160a7b', metadata={'creationdate': '2021-04-16T16:55:02+09:00', 'creator': 'Adobe InDesign 16.1 (Macintosh)', 'moddate': '2023-07-26T06:48:13+09:00', 'page': 86, 'page_label': '87', 'producer': 'Adobe PDF Library 15.0', 'source': './start-up_investor_relations.pdf', 'total_pages': 197, 'trapped': '/False'}, page_content='172 173량과 구체적인 정도의 차이를 제외하면 모두 IR 자료입니다.\\n그리고 메일로 보내는 IR 자료는 너무 도식화된 대면 발표용 자료 \\n형태로 만들면 이해하기 힘들 수 있으니, 적당한 도식과 함께 명확하\\n게 글로 설명된 자료가 이해하기 쉬울 수 있죠. 도식화된 발표용 IR \\n자료를 서면으로 그대로 보낼 경우 “자료만 보고는 도대체 무슨 이야\\n기인지 모르겠다”는 반응을 얻을 수도 있습니다. 또한 IR 자료는 기\\n본적으로 투자자를 위한 것이지만, 자료를 만들며 스스로 사업에 대\\n한 생각을 정리해 보는 좋은 기회로 삼을 수도 있습니다. \\nIR 자료를 만드는 ‘십계명’\\nIR 자료를 작성하는 정답은 따로 없지만, 기본적인 목차로 많이 참\\n고하는 자료가 ‘세콰이아캐피탈’의 ‘사업 계획 작성법’29입니다. 구체\\n적으로 들어가면 국내 투자자와 해외 투자자에 따라 그리고 투자 단\\n계에 따라 IR 자료 스타일이 조금 달라져야 하지만, 근본적인 측면에\\n서는 비슷합니다. \\n아래 열 가지 목차는 세콰이아캐피탈의 내용에 제가 투자를 검토하\\n거나 혹은 포트폴리오사의 후속 투자 유치 시 조언한 경험 중 참고할 \\n만한 내용을 추가하여 정리해 보았습니다.\\n목차의 순서는 각자의 스토리텔링과 스타일에 따라 적절하게 편집\\n29\\u3000Sequoia Capital ‘Writing a Business Plan’  \\nhttps://www.sequoiacap.com/article/writing-a-business-plan/ 하고, 군더더기를 삭제하여 핵심 부분을 돋보이게 하는 것이 중요합\\n니다. 투자자는 많은 스타트업을 상대하기 때문에 투자자의 집중력을 \\n더 높이기 위해서는, 투자자가 관심 있어 할 만한 부분에 중점을 두고 \\n설득력 있게 작성하면 좋습니다.')]"
      ]
     },
     "execution_count": 42,
     "metadata": {},
     "output_type": "execute_result"
    }
   ],
   "source": [
    "retrieved_docs"
   ]
  },
  {
   "cell_type": "markdown",
   "metadata": {},
   "source": [
    "4. Augmentation을 위한 Prompt 활용\n",
    "\n",
    "Retrieval된 데이터는 LangChain에서 제공하는 프롬프트(\"rlm/rag-prompt\") 사용"
   ]
  },
  {
   "cell_type": "code",
   "execution_count": 7,
   "metadata": {},
   "outputs": [],
   "source": [
    "from langchain_upstage import ChatUpstage\n",
    "\n",
    "llm = ChatUpstage(model='solar-pro')"
   ]
  },
  {
   "cell_type": "code",
   "execution_count": 8,
   "metadata": {},
   "outputs": [
    {
     "name": "stderr",
     "output_type": "stream",
     "text": [
      "/Users/crazyatom/.pyenv/versions/start-up-bot/lib/python3.11/site-packages/langsmith/client.py:278: LangSmithMissingAPIKeyWarning: API key must be provided when using hosted LangSmith API\n",
      "  warnings.warn(\n"
     ]
    }
   ],
   "source": [
    "from langchain import hub\n",
    "\n",
    "prompt = hub.pull(\"rlm/rag-prompt\")"
   ]
  },
  {
   "cell_type": "markdown",
   "metadata": {},
   "source": [
    "5. 답변 생성\n",
    "\n",
    "- RetrievalQA를 통해 LLM에 전달\n",
    "  - RetrievalQA는 create_retrieval_chain으로 대체됨\n",
    "  - 실제 ChatBot 구현 시 create_retrieval_chain으로 변경하는 과정을 볼 수 있음"
   ]
  },
  {
   "cell_type": "code",
   "execution_count": 43,
   "metadata": {},
   "outputs": [],
   "source": [
    "from langchain.chains import RetrievalQA\n",
    "\n",
    "qa_chain = RetrievalQA.from_chain_type(\n",
    "    llm,\n",
    "    retriever=database.as_retriever(),\n",
    "    chain_type_kwargs={\"prompt\": prompt}\n",
    ")"
   ]
  },
  {
   "cell_type": "code",
   "execution_count": 44,
   "metadata": {},
   "outputs": [],
   "source": [
    "# ai_message = qa_chain({\"query\": query})\n",
    "\n",
    "# 업데이트된 LangChain 문법은 `.invoke()` 활용을 권장\n",
    "ai_message = qa_chain.invoke({\"query\": query})"
   ]
  },
  {
   "cell_type": "code",
   "execution_count": 45,
   "metadata": {},
   "outputs": [
    {
     "data": {
      "text/plain": [
       "{'query': '스타트업 투자 자문을 위한 IR 자료는 어떤 내용이 포함되어야 하는가?',\n",
       " 'result': '스타트업 투자 자문을 위한 IR 자료는 팀 구성, 재무 계획, 비전을 포함해야 합니다. 팀 구성에서는 핵심 멤버들의 이력, 비전 공유, 지분, 관계 등을 나타내야 합니다. 재무 계획에서는 3년 이내의 매출 계획, 예상 비용, 투자금 활용 방안, 자금 소진 속도 등을 제시해야 합니다. 비전에서는 계획대로 잘될 경우 5년 후에 무엇을 성취할 것인지를 제시해야 합니다.'}"
      ]
     },
     "execution_count": 45,
     "metadata": {},
     "output_type": "execute_result"
    }
   ],
   "source": [
    "ai_message"
   ]
  },
  {
   "cell_type": "code",
   "execution_count": null,
   "metadata": {},
   "outputs": [],
   "source": []
  }
 ],
 "metadata": {
  "kernelspec": {
   "display_name": "start-up-bot",
   "language": "python",
   "name": "python3"
  },
  "language_info": {
   "codemirror_mode": {
    "name": "ipython",
    "version": 3
   },
   "file_extension": ".py",
   "mimetype": "text/x-python",
   "name": "python",
   "nbconvert_exporter": "python",
   "pygments_lexer": "ipython3",
   "version": "3.11.11"
  }
 },
 "nbformat": 4,
 "nbformat_minor": 2
}
